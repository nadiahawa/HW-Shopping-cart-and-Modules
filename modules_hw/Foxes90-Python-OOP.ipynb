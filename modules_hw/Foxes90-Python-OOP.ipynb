{
 "cells": [
  {
   "cell_type": "markdown",
   "metadata": {},
   "source": [
    "# Object-Oriented-Programming (OOP)"
   ]
  },
  {
   "cell_type": "markdown",
   "metadata": {},
   "source": [
    "## Tasks Today:\n",
    "\n",
    "   \n",
    "\n",
    "1) <b>Creating a Class (Initializing/Declaring)</b> <br>\n",
    "2) <b>Using a Class (Instantiating)</b> <br>\n",
    " &nbsp;&nbsp;&nbsp;&nbsp; a) Creating One Instance <br>\n",
    " &nbsp;&nbsp;&nbsp;&nbsp; b) Creating Multiple Instances <br>\n",
    " &nbsp;&nbsp;&nbsp;&nbsp; c) In-Class Exercise #1 - Create a Class 'Car' and instantiate three different makes of cars <br>\n",
    "3) <b>The \\__init\\__() Method</b> <br>\n",
    " &nbsp;&nbsp;&nbsp;&nbsp; a) The 'self' Attribute <br>\n",
    "4) <b>Class Attributes</b> <br>\n",
    " &nbsp;&nbsp;&nbsp;&nbsp; a) Initializing Attributes <br>\n",
    " &nbsp;&nbsp;&nbsp;&nbsp; b) Setting an Attribute Outside of the \\__init\\__() Method <br>\n",
    " &nbsp;&nbsp;&nbsp;&nbsp; c) Setting Defaults for Attributes <br>\n",
    " &nbsp;&nbsp;&nbsp;&nbsp; d) Accessing Class Attributes <br>\n",
    " &nbsp;&nbsp;&nbsp;&nbsp; e) Changing Class Attributes <br>\n",
    " &nbsp;&nbsp;&nbsp;&nbsp; f) In-Class Exercise #2 - Add a color and wheels attribute to your 'Car' class <br>\n",
    "5) <b>Class Methods</b> <br>\n",
    " &nbsp;&nbsp;&nbsp;&nbsp; a) Creating <br>\n",
    " &nbsp;&nbsp;&nbsp;&nbsp; b) Calling <br>\n",
    " &nbsp;&nbsp;&nbsp;&nbsp; c) Modifying an Attribute's Value Through a Method <br>\n",
    " &nbsp;&nbsp;&nbsp;&nbsp; d) Incrementing an Attribute's Value Through a Method <br>\n",
    " &nbsp;&nbsp;&nbsp;&nbsp; e) In-Class Exercise #3 - Add a method that prints the cars color and wheel number, then call them <br>\n",
    "6) <b>Inheritance</b> <br>\n",
    " &nbsp;&nbsp;&nbsp;&nbsp; a) Syntax for Inheriting from a Parent Class <br>\n",
    " &nbsp;&nbsp;&nbsp;&nbsp; b) The \\__init\\__() Method for a Child Class (super()) <br>\n",
    " &nbsp;&nbsp;&nbsp;&nbsp; c) Defining Attributes and Methods for the Child Class <br>\n",
    " &nbsp;&nbsp;&nbsp;&nbsp; d) Method Overriding <br>\n",
    " &nbsp;&nbsp;&nbsp;&nbsp; e) In-Class Exercise #4 - Create a class 'Ford' that inherits from 'Car' class and initialize it as a Blue Ford Explorer with 4 wheels using the super() method <br>\n",
    "7) <b>Classes as Attributes</b> <br>\n",
    "8) <b>Exercises</b> <br>\n",
    " &nbsp;&nbsp;&nbsp;&nbsp; a) Exercise #1 - Turn the shopping cart program from yesterday into an object-oriented program <br>"
   ]
  },
  {
   "cell_type": "markdown",
   "metadata": {},
   "source": [
    "## Creating a Class (Initializing/Declaring)\n",
    "<p>When creating a class, function, or even a variable you are initializing that object. Initializing and Declaring occur at the same time in Python, whereas in lower level languages you have to declare an object before initializing it. This is the first step in the process of using a class.</p>"
   ]
  },
  {
   "cell_type": "code",
   "execution_count": null,
   "metadata": {},
   "outputs": [],
   "source": [
    "class Car():\n",
    "    wheels = 4\n",
    "    color = 'blue'\n",
    "#wheels and color are attributes (\"aka variables\")\n",
    "#instantiating a class is like calling a functino almost \n",
    "#a class weith attributes is an object \n"
   ]
  },
  {
   "cell_type": "markdown",
   "metadata": {},
   "source": [
    "## Using a Class (Instantiating)\n",
    "<p>The process of creating a class is called <i>Instantiating</i>. Each time you create a variable of that type of class, it is referred to as an <i>Instance</i> of that class. This is the second step in the process of using a class.</p>"
   ]
  },
  {
   "cell_type": "markdown",
   "metadata": {},
   "source": [
    "##### Creating One Instance"
   ]
  },
  {
   "cell_type": "code",
   "execution_count": null,
   "metadata": {},
   "outputs": [],
   "source": [
    "ford = Car()\n",
    "print(ford)"
   ]
  },
  {
   "cell_type": "markdown",
   "metadata": {},
   "source": [
    "##### Creating Multiple Instances"
   ]
  },
  {
   "cell_type": "code",
   "execution_count": null,
   "metadata": {},
   "outputs": [],
   "source": [
    "bentley = car()\n",
    "bmw = car()\n",
    "print(bentley)\n",
    "print(bmw)\n",
    "#accessing the attributes\n",
    "#dot notation \n",
    "print(bmw.wheels)\n",
    "print(ford.wheels)\n",
    "\n"
   ]
  },
  {
   "cell_type": "markdown",
   "metadata": {},
   "source": [
    "##### In-Class Exercise #1 - Create a Class 'Car' and Instantiate three different makes of cars"
   ]
  },
  {
   "cell_type": "code",
   "execution_count": null,
   "metadata": {},
   "outputs": [],
   "source": [
    "\n",
    "#class declaration/definition/initalization \n",
    "class dog():\n",
    "    name = 'laika'\n",
    "    hair = 'long'\n",
    "    color = ['black', 'white']\n",
    "    age = 2\n",
    "    legs = 4\n",
    "#when like this, shred by every instance of the class\n",
    "#lists are mutable, we can change them in place\n",
    "#attributes hair, name, ect are the variable of the class\n",
    "\n",
    "#these are each three steps of instantiation \n",
    "#dog1 is an instance of the dog class\n",
    "\n",
    "dog1 = dog()\n",
    "dog2 = dog()\n",
    "dog3 = dog()\n",
    "\n",
    "\n",
    "print(dog1)\n",
    "print(dog1.hair)\n",
    "print(dog1.color)\n",
    "\n",
    "#access their attributes\n",
    "#<dog_instance>.breed\n",
    "print(dog1.breed)\n",
    "dog2.breed = 'chiuaua'\n",
    "print(dog2.breed)\n",
    "print(dog2.color)\n",
    "dog2.colors.remove('black')\n",
    "print(dog2.colors)\n",
    "print(dog1.colors) #dog1 shoudl srill be black and white, we only removed from dog 2 colors\n",
    "\n",
    "\n",
    "    "
   ]
  },
  {
   "cell_type": "markdown",
   "metadata": {},
   "source": [
    "## The \\__init\\__() Method <br>\n",
    "<p>This method is used in almost every created class, and called only once upon the creation of the class instance. This method will initialize all variables needed for the object.</p>"
   ]
  },
  {
   "cell_type": "code",
   "execution_count": null,
   "metadata": {},
   "outputs": [],
   "source": [
    "#should be used any time were creatubg an object\n",
    "#must be specifically named! \n",
    "\n",
    "class Dog:\n",
    "    def __init__(self):\n",
    "        self.name = 'laika'\n",
    "        self.breed = 'golden'\n",
    "        self.colors = ['white', 'black']\n",
    "        self.paws = 4\n",
    "#self can mean any of the instances any of the time\n",
    "#if your witing code inside the code block for the class use self\n",
    "#if your coding outside the block use the instance(dog) name\n",
    "\n",
    "dog1 = Dog()\n",
    "dog2 = Dog()\n",
    "dog3 = Dog()\n",
    "\n",
    "dog2.breed = 'chiuaua'\n",
    "dog2.colors.remove('black')"
   ]
  },
  {
   "cell_type": "markdown",
   "metadata": {},
   "source": [
    "##### The 'self' Attribute <br>\n",
    "<p>This attribute is required to keep track of specific instance's attributes. Without the self attribute, the program would not know how to reference or keep track of an instance's attributes.</p>"
   ]
  },
  {
   "cell_type": "code",
   "execution_count": null,
   "metadata": {},
   "outputs": [],
   "source": [
    "# see above\n",
    "#writing code inside the class? use self\n",
    "#working on a instance of the class outside of the class code block? use the instance name "
   ]
  },
  {
   "cell_type": "markdown",
   "metadata": {},
   "source": [
    "## Class Attributes <br>\n",
    "<p>While variables are inside of a class, they are referred to as attributes and not variables. When someone says 'attribute' you know they're speaking about a class. Attributes can be initialized through the init method, or outside of it.</p>"
   ]
  },
  {
   "cell_type": "markdown",
   "metadata": {},
   "source": [
    "##### Initializing Attributes"
   ]
  },
  {
   "cell_type": "code",
   "execution_count": null,
   "metadata": {},
   "outputs": [],
   "source": [
    "# see above"
   ]
  },
  {
   "cell_type": "markdown",
   "metadata": {},
   "source": [
    "##### Accessing Class Attributes"
   ]
  },
  {
   "cell_type": "code",
   "execution_count": null,
   "metadata": {
    "scrolled": true
   },
   "outputs": [],
   "source": [
    "# See Above"
   ]
  },
  {
   "cell_type": "markdown",
   "metadata": {},
   "source": [
    "##### Setting Defaults for Attributes"
   ]
  },
  {
   "cell_type": "code",
   "execution_count": null,
   "metadata": {},
   "outputs": [],
   "source": [
    "class Dog:\n",
    "    def __init__(self, name, breed, paws=4):\n",
    "        self.name = name\n",
    "        self.breed = breed\n",
    "        self.colors = ['white', 'black']\n",
    "        self.paws = paws\n",
    "\n",
    "balto = Dog('balto', 'husky')\n",
    "#use the .__dict__ attribute tp see a dictionary of the object attributes \n",
    "print(balto.__dict__)\n",
    "\n",
    "henry = Dog('henry', 'english')\n",
    "print(henry.__dict__)\n",
    "\n",
    "hachik = Dog('Hachiko', 'shiba inu', 3)\n",
    "print(hachiko.__dict__)\n"
   ]
  },
  {
   "cell_type": "markdown",
   "metadata": {},
   "source": [
    "##### Changing Class Attributes <br>\n",
    "<p>Keep in mind there are global class attributes and then there are attributes only available to each class instance which won't effect other classes.</p>"
   ]
  },
  {
   "cell_type": "code",
   "execution_count": null,
   "metadata": {},
   "outputs": [],
   "source": [
    "#global class attrubues are those set up without the self syntax and outside of the ninit methos\n",
    "#attributes only available to each class instance are those set with the self.__ snytacx usually inside __init__()\n",
    "\n",
    "#change hacjuo oaws frim 3-4\n",
    "hackico.paws = hackico.paws+1\n",
    "print(hachiko.paws)\n",
    "\n",
    "#dogs.colors is a list\n",
    "#i can perform any list operation on that list \n",
    "print(hachiko.colors)\n",
    "hackicko.colors.remove('black')\n",
    "hackicko.colors.remove('white')\n",
    "hackicko.colors.append('bronw')\n",
    "hackicko.colors.append('caramel')\n",
    "print(hackico.colors)"
   ]
  },
  {
   "cell_type": "code",
   "execution_count": null,
   "metadata": {},
   "outputs": [],
   "source": []
  },
  {
   "cell_type": "markdown",
   "metadata": {},
   "source": [
    "##### In-Class Exercise #2 - Add a doors and seats attribute to your 'Car' class then print out two different instances with different doors and seats"
   ]
  },
  {
   "cell_type": "code",
   "execution_count": null,
   "metadata": {},
   "outputs": [],
   "source": [
    "class Cars():\n",
    "    def __init__(self, doors, seats=4):\n",
    "        self.doors = doors\n",
    "        self.seats = seats\n",
    "\n",
    "\n",
    "bmw = Cars(2, 2)\n",
    "jeep = Cars(4, 4)\n",
    "print(jeep.seats, jeep.doors)\n",
    "print(bmw.seats, bmw.doors)\n",
    "\n",
    "\n",
    "\n",
    "\n",
    "\n",
    "class Sport():\n",
    "    def __init__(self, location, difficulty, players):\n",
    "        self.location = location\n",
    "        self.difficulty = ['hard', 'medium', 'easy']\n",
    "        self.players = players\n",
    "\n",
    "rugby = Sport('pitch', 'hard', 15)\n",
    "print(rugby.location)\\\n",
    "\n",
    "\n",
    "\n",
    "\n",
    "class Animals:\n",
    "    def __init__(self, species, latinname, name, habitat='desert')\n",
    "    self.species = species \n",
    "    self.latinname = latinname\n",
    "    self.name = name\n",
    "    self.habitat = habitat\n",
    "\n",
    "fox =animal('fox', 'zerda', 'dijin')"
   ]
  },
  {
   "cell_type": "markdown",
   "metadata": {},
   "source": [
    "## Class Methods <br>\n",
    "<p>While inside of a class, functions are referred to as 'methods'. If you hear someone mention methods, they're speaking about classes. Methods are essentially functions, but only callable on the instances of a class.</p>"
   ]
  },
  {
   "cell_type": "markdown",
   "metadata": {},
   "source": [
    "##### Creating"
   ]
  },
  {
   "cell_type": "code",
   "execution_count": null,
   "metadata": {},
   "outputs": [],
   "source": [
    "class Animals:\n",
    "    def __init__(self, species, latinname, name, habitat='desert')\n",
    "    self.species = species \n",
    "    self.latinname = latinname\n",
    "    self.name = name\n",
    "    self.habitat = habitat\n",
    "\n",
    "    def pet(self):\n",
    "        print(f'you pet the {self.species} name {self.name}.')\n",
    "\n",
    "fox.pet() #this is most common way to call a class method\n",
    "\n",
    "#alternative - just to show that the variable name (instance name) is the argument for the self paramete\n",
    "Animal.pet()\n"
   ]
  },
  {
   "cell_type": "markdown",
   "metadata": {},
   "source": [
    "##### Calling"
   ]
  },
  {
   "cell_type": "code",
   "execution_count": null,
   "metadata": {},
   "outputs": [],
   "source": [
    "# See Above"
   ]
  },
  {
   "cell_type": "markdown",
   "metadata": {},
   "source": [
    "##### Modifying an Attribute's Value Through a Method"
   ]
  },
  {
   "cell_type": "code",
   "execution_count": null,
   "metadata": {},
   "outputs": [],
   "source": [
    "class Animals:\n",
    "    def __init__(self, species, latinname, name, habitat='desert')\n",
    "    self.species = species \n",
    "    self.latinname = latinname\n",
    "    self.name = name\n",
    "    self.habitat = habitat\n",
    "    self.age = 0\n",
    "\n",
    "    def pet(self):\n",
    "        print(f'you pet the {self.species} name {self.name}.')\n",
    "\n",
    "        #setter method = set the order of the attribute\n",
    "    def argueAboutNames(self, newname):\n",
    "        print(f'you think tyhe sceifntic name of this {self.specicies} should change.')\n",
    "        self.latinname = newname\n",
    "    def happybirthda(self, newname):\n",
    "        self.age =+1\n",
    "        \n",
    "\n",
    "\n",
    "fox =animal('fox', 'zerda', 'dijin')\n",
    "fox.pet()\n",
    "fox.argueAboutNames('idk')\n"
   ]
  },
  {
   "cell_type": "markdown",
   "metadata": {},
   "source": [
    "##### Incrementing an Attribute's Value Through a Method"
   ]
  },
  {
   "cell_type": "code",
   "execution_count": null,
   "metadata": {},
   "outputs": [],
   "source": []
  },
  {
   "cell_type": "markdown",
   "metadata": {},
   "source": [
    "##### In-Class Exercise #3 - Add a method that takes in three parameters of year, doors and seats and prints out a formatted print statement with make, model, year, seats, and doors"
   ]
  },
  {
   "cell_type": "code",
   "execution_count": null,
   "metadata": {},
   "outputs": [],
   "source": [
    "# Create class with 2 paramters inside of the __init__ which are make and model\n",
    "\n",
    "# Inside of the Car class create a method that has 4 parameter in total (self,year,door,seats)\n",
    "\n",
    "# Output: This car is from 2019 and is a Ford Expolorer and has 4 doors and 5 seats\n",
    "#descripton of this instance of your object \n",
    "\n",
    "class Cars():\n",
    "    def __init__(self, make, model,  doors, seats=4):\n",
    "        self.doors = doors\n",
    "        self.seats = seats\n",
    "        self.make = make\n",
    "        self.model = model\n",
    "    def preowned(self):\n",
    "        print(f'This car is from 2019 and is a {self.make} and have {self.doors} doors and {self.seats} seats')\n",
    "   \n",
    "MainCar = Cars('ford explorer', 'f150', 4)\n",
    "MainCar.seats = 5 \n",
    "MainCar.preowned()\n",
    "\n",
    "\n",
    "\n",
    "# bmw = Cars(2, 2)\n",
    "# jeep = Cars(4, 4)\n",
    "# print(jeep.seats, jeep.doors)\n",
    "# print(bmw.seats, bmw.doors)\n",
    "\n",
    "\n"
   ]
  },
  {
   "cell_type": "code",
   "execution_count": null,
   "metadata": {},
   "outputs": [],
   "source": [
    "\n",
    "# def check_shopping_cart():\n",
    "#     print('your shopping cart consists of: ' )\n",
    "# def add_items(item):\n",
    "#     empty_cart = empty_cart.append(item)\n",
    "#     print(f'{item} has been placed in cart!')\n",
    "# def remove_item(item):\n",
    "#     empty_cart = empty_cart.pop(item)\n",
    "#     print(f'{item} has been removed from cart.')\n",
    "# def quit_cart():\n",
    "#      print('Thanks for shopping with us!')\n",
    "\n",
    "# while True:\n",
    "#     response = input('Welcome to shop mart! How can we help you today? Check shopping cart [check] Add Items [add] Remove Item [remove] Leave and quit[quit]')\n",
    "#     if response.lower() == 'quit':\n",
    "#         quit()\n",
    "#         break\n",
    "#     elif response.lower() == 'check':\n",
    "#         check_shopping_cart()\n",
    "#     elif response.lower() == 'add':\n",
    "#         item = input('what would you like to add? ')\n",
    "#         if item == \"\":\n",
    "#             add_items(item)\n"
   ]
  },
  {
   "cell_type": "markdown",
   "metadata": {},
   "source": [
    "## Inheritance <br>\n",
    "<p>You can create a child-parent relationship between two classes by using inheritance. What this allows you to do is have overriding methods, but also inherit traits from the parent class. Think of it as an actual parent and child, the child will inherit the parent's genes, as will the classes in OOP</p>"
   ]
  },
  {
   "cell_type": "markdown",
   "metadata": {},
   "source": [
    "##### Syntax for Inheriting from a Parent Class"
   ]
  },
  {
   "cell_type": "code",
   "execution_count": null,
   "metadata": {},
   "outputs": [],
   "source": []
  },
  {
   "cell_type": "markdown",
   "metadata": {},
   "source": [
    "##### The \\__init\\__() Method for a Child Class - super()"
   ]
  },
  {
   "cell_type": "code",
   "execution_count": null,
   "metadata": {
    "scrolled": true
   },
   "outputs": [],
   "source": []
  },
  {
   "cell_type": "markdown",
   "metadata": {},
   "source": [
    "##### Defining Attributes and Methods for the Child Class"
   ]
  },
  {
   "cell_type": "code",
   "execution_count": null,
   "metadata": {},
   "outputs": [],
   "source": [
    "# See Above"
   ]
  },
  {
   "cell_type": "markdown",
   "metadata": {},
   "source": [
    "##### Method Overriding"
   ]
  },
  {
   "cell_type": "code",
   "execution_count": null,
   "metadata": {},
   "outputs": [],
   "source": [
    "# See Above"
   ]
  },
  {
   "cell_type": "markdown",
   "metadata": {},
   "source": [
    "## Classes as Attributes <br>\n",
    "<p>Classes can also be used as attributes within another class. This is useful in situations where you need to keep variables locally stored, instead of globally stored.</p>"
   ]
  },
  {
   "cell_type": "code",
   "execution_count": null,
   "metadata": {},
   "outputs": [],
   "source": []
  },
  {
   "cell_type": "markdown",
   "metadata": {},
   "source": [
    "# Exercises"
   ]
  },
  {
   "cell_type": "markdown",
   "metadata": {},
   "source": [
    "### Exercise 1 - Turn the shopping cart program from yesterday into an object-oriented program\n",
    "\n",
    "The comments in the cell below are there as a guide for thinking about the problem. However, if you feel a different way is best for you and your own thought process, please do what feels best for you by all means."
   ]
  },
  {
   "cell_type": "code",
   "execution_count": null,
   "metadata": {},
   "outputs": [],
   "source": [
    "def shopping_cart():\n",
    "    the_cart = []\n",
    "\n",
    "    while True:\n",
    "        response = input('Welcome to shop mart! How can we help you today? Check shopping cart [check] Add Items [add] Remove Item [remove] Leave and quit[quit]').lower()\n",
    "        if response == 'check':\n",
    "            print(f'Here is the_cart: {the_cart}.')\n",
    "        elif response == 'quit':\n",
    "            print(f'Thank you for shopping with us today, here is your final order: {the_cart}.')\n",
    "            break\n",
    "        elif response == 'add':\n",
    "            item = input('What would you like to add to your cart?').title()\n",
    "            the_cart.append(item)\n",
    "        elif response == 'remove':\n",
    "            item = input('What item would you like to remove?').title()\n",
    "            the_cart.remove(item)\n",
    "        else:\n",
    "            print('Please select a valid option listed.')\n",
    "shopping_cart()"
   ]
  },
  {
   "cell_type": "markdown",
   "metadata": {},
   "source": [
    "### Exercise 2 - Write a Python class which has two methods get_String and print_String. get_String accept a string from the user and print_String print the string in upper case"
   ]
  },
  {
   "cell_type": "code",
   "execution_count": null,
   "metadata": {},
   "outputs": [],
   "source": [
    "import sys\n",
    "sys.path.append(r\"C:\\Users\\nadia\\Documents\\coding_temple\\week_2\\day_4\\HW\\modules_hw\\Modules\")\n",
    "import sqrft\n",
    "# import sqrft"
   ]
  },
  {
   "cell_type": "code",
   "execution_count": null,
   "metadata": {},
   "outputs": [],
   "source": [
    "import sys\n",
    "sys.path.append(r\"C:\\Users\\nadia\\Documents\\coding_temple\\week_2\\day_4\\HW\\modules_hw\\Modules\")\n",
    "import circumference\n",
    "# import circumference"
   ]
  }
 ],
 "metadata": {
  "kernelspec": {
   "display_name": "Python 3 (ipykernel)",
   "language": "python",
   "name": "python3"
  },
  "language_info": {
   "codemirror_mode": {
    "name": "ipython",
    "version": 3
   },
   "file_extension": ".py",
   "mimetype": "text/x-python",
   "name": "python",
   "nbconvert_exporter": "python",
   "pygments_lexer": "ipython3",
   "version": "3.9.7"
  }
 },
 "nbformat": 4,
 "nbformat_minor": 2
}
